{
 "cells": [
  {
   "cell_type": "code",
   "execution_count": null,
   "id": "ec4c0ee2",
   "metadata": {},
   "outputs": [],
   "source": [
    "import pandas as pd\n",
    "import matplotlib.pyplot as plt\n",
    "\n",
    "tfidf_metrics = pd.read_csv('avg_tfidf_metrics.csv')\n",
    "bm25_metrics = pd.read_csv('avg_bm25_metrics.csv')\n",
    "es_metrics = pd.read_csv('avg_elasticsearch_metrics.csv')\n",
    "\n",
    "recall_levels_11pt = tfidf_metrics['interpolated_recalls_at_levels']\n",
    "avg_tfidf_interpolated_precision = tfidf_metrics['interpolated_precisions_at_levels']\n",
    "avg_bm25_interpolated_precision = bm25_metrics['interpolated_precisions_at_levels']\n",
    "avg_es_interpolated_precision = es_metrics['interpolated_precisions_at_levels']\n",
    "\n",
    "plt.figure(figsize=(10, 6))\n",
    "plt.plot(recall_levels_11pt, avg_tfidf_interpolated_precision, marker='o', linestyle='-', label='TF-IDF')\n",
    "plt.plot(recall_levels_11pt, avg_bm25_interpolated_precision, marker='x', linestyle='--', label='BM25')\n",
    "plt.plot(recall_levels_11pt, avg_es_interpolated_precision, marker='s', linestyle='--', label='ElasticSearch')\n",
    "\n",
    "plt.xlabel('Recall')\n",
    "plt.ylabel('Precisão Interpolada')\n",
    "plt.title('11 níveis de interpolação')\n",
    "plt.xticks(recall_levels_11pt)\n",
    "plt.ylim(0.05, 0.7)\n",
    "plt.grid(True)\n",
    "plt.legend()\n",
    "plt.show()"
   ]
  },
  {
   "cell_type": "code",
   "execution_count": null,
   "id": "47ce6b35",
   "metadata": {},
   "outputs": [],
   "source": [
    "avg_tfidf_interpolated_f1 = tfidf_metrics['interpolated_f1_at_levels']\n",
    "avg_bm25_interpolated_f1 = bm25_metrics['interpolated_f1_at_levels']\n",
    "avg_es_interpolated_f1 = es_metrics['interpolated_f1_at_levels']\n",
    "\n",
    "plt.figure(figsize=(10, 6))\n",
    "plt.plot(recall_levels_11pt, avg_tfidf_interpolated_f1, marker='o', linestyle='-', label='TF-IDF')\n",
    "plt.plot(recall_levels_11pt, avg_bm25_interpolated_f1, marker='x', linestyle='--', label='BM25')\n",
    "plt.plot(recall_levels_11pt, avg_es_interpolated_f1, marker='s', linestyle='--', label='ElasticSearch')\n",
    "\n",
    "plt.xlabel('Recall')\n",
    "plt.ylabel('F1 Interpolada')\n",
    "plt.title('11 níveis de interpolação')\n",
    "plt.xticks(recall_levels_11pt)\n",
    "plt.ylim(0.05, 0.7)\n",
    "plt.grid(True)\n",
    "plt.legend()\n",
    "plt.show()"
   ]
  }
 ],
 "metadata": {
  "kernelspec": {
   "display_name": "Python 3",
   "language": "python",
   "name": "python3"
  },
  "language_info": {
   "codemirror_mode": {
    "name": "ipython",
    "version": 3
   },
   "file_extension": ".py",
   "mimetype": "text/x-python",
   "name": "python",
   "nbconvert_exporter": "python",
   "pygments_lexer": "ipython3",
   "version": "3.10.12"
  }
 },
 "nbformat": 4,
 "nbformat_minor": 5
}
